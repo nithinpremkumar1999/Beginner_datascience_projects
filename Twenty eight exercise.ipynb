{
 "cells": [
  {
   "cell_type": "code",
   "execution_count": 1,
   "metadata": {},
   "outputs": [],
   "source": [
    "import numpy as np\n",
    "from sklearn import preprocessing"
   ]
  },
  {
   "cell_type": "code",
   "execution_count": 3,
   "metadata": {},
   "outputs": [],
   "source": [
    "raw_csv_data = np.loadtxt('Audiobooks_data.csv', delimiter = ',')\n",
    "unscaled_inputs_all = raw_csv_data[:, 1:-1]\n",
    "targets_all = raw_csv_data[:,-1]"
   ]
  },
  {
   "cell_type": "code",
   "execution_count": 4,
   "metadata": {},
   "outputs": [],
   "source": [
    "num_one_targets = int(np.sum(targets_all))\n",
    "zero_targets_counter = 0\n",
    "indices_to_remove = []\n",
    "\n",
    "for i in range(targets_all.shape[0]):\n",
    "    if targets_all[i] == 0:\n",
    "        zero_targets_counter += 1\n",
    "        if zero_targets_counter > num_one_targets:\n",
    "            indices_to_remove.append(i)\n",
    "            \n",
    "unscaled_inputs_equal_priors = np.delete(unscaled_inputs_all, indices_to_remove, axis = 0)\n",
    "targets_equal_all = np.delete(targets_all, indices_to_remove, axis = 0)"
   ]
  },
  {
   "cell_type": "code",
   "execution_count": 5,
   "metadata": {},
   "outputs": [],
   "source": [
    "scaled_inputs = preprocessing.scale(unscaled_inputs_equal_priors)"
   ]
  },
  {
   "cell_type": "code",
   "execution_count": 8,
   "metadata": {},
   "outputs": [],
   "source": [
    "shuffled_indices = np.arange(scaled_inputs.shape[0])\n",
    "np.random.shuffle(shuffled_indices)\n",
    "\n",
    "shuffled_inputs = scaled_inputs[shuffled_indices]\n",
    "shuffled_targets = targets_equal_all[shuffled_indices]"
   ]
  },
  {
   "cell_type": "code",
   "execution_count": 10,
   "metadata": {},
   "outputs": [
    {
     "name": "stdout",
     "output_type": "stream",
     "text": [
      "1801.0 3579 0.5032131880413523\n",
      "215.0 447 0.4809843400447427\n",
      "221.0 448 0.49330357142857145\n"
     ]
    }
   ],
   "source": [
    "samples_count = shuffled_inputs.shape[0]\n",
    "\n",
    "train_samples_count = int(0.8*samples_count)\n",
    "validation_samples_count = int(0.1*samples_count)\n",
    "test_samples_count = samples_count - train_samples_count - validation_samples_count\n",
    "\n",
    "train_inputs = shuffled_inputs[:train_samples_count]\n",
    "train_targets = shuffled_targets[:train_samples_count]\n",
    "\n",
    "validation_inputs = shuffled_inputs[train_samples_count: train_samples_count+validation_samples_count]\n",
    "validation_targets = shuffled_targets[train_samples_count: train_samples_count+validation_samples_count]\n",
    "\n",
    "test_inputs = shuffled_inputs[train_samples_count+validation_samples_count:]\n",
    "test_targets = shuffled_targets[train_samples_count+validation_samples_count:]\n",
    "\n",
    "print(np.sum(train_targets), train_samples_count, np.sum(train_targets) / train_samples_count)\n",
    "print(np.sum(validation_targets), validation_samples_count, np.sum(validation_targets) / validation_samples_count)\n",
    "print(np.sum(test_targets), test_samples_count, np.sum(test_targets) / test_samples_count)"
   ]
  },
  {
   "cell_type": "code",
   "execution_count": 11,
   "metadata": {},
   "outputs": [],
   "source": [
    "np.savez('Audiobooks_data_train', inputs=train_inputs, targets=train_targets)\n",
    "np.savez('Audiobooks_data_validation', inputs=validation_inputs, targets=validation_targets)\n",
    "np.savez('Audiobooks_data_test', inputs=test_inputs, targets=test_targets)"
   ]
  },
  {
   "cell_type": "code",
   "execution_count": 12,
   "metadata": {},
   "outputs": [],
   "source": [
    "import tensorflow as tf"
   ]
  },
  {
   "cell_type": "code",
   "execution_count": 14,
   "metadata": {},
   "outputs": [],
   "source": [
    "npz = np.load('Audiobooks_data_train.npz')\n",
    "train_inputs = npz['inputs'].astype(np.float)\n",
    "train_targets = npz['targets'].astype(np.int)\n",
    "\n",
    "npz = np.load('Audiobooks_data_validation.npz')\n",
    "validation_inputs, validation_targets = npz['inputs'].astype(np.float), npz['targets'].astype(np.int)\n",
    "\n",
    "npz = np.load('Audiobooks_data_test.npz')\n",
    "test_inputs, test_targets = npz['inputs'].astype(np.float), npz['targets'].astype(np.int)"
   ]
  },
  {
   "cell_type": "code",
   "execution_count": 20,
   "metadata": {},
   "outputs": [
    {
     "name": "stdout",
     "output_type": "stream",
     "text": [
      "Epoch 1/100\n",
      "36/36 - 0s - loss: 0.5425 - accuracy: 0.7594 - val_loss: 0.4290 - val_accuracy: 0.8479\n",
      "Epoch 2/100\n",
      "36/36 - 0s - loss: 0.3606 - accuracy: 0.8776 - val_loss: 0.3705 - val_accuracy: 0.8546\n",
      "Epoch 3/100\n",
      "36/36 - 0s - loss: 0.3156 - accuracy: 0.8885 - val_loss: 0.3446 - val_accuracy: 0.8591\n",
      "Epoch 4/100\n",
      "36/36 - 0s - loss: 0.2963 - accuracy: 0.8896 - val_loss: 0.3275 - val_accuracy: 0.8680\n",
      "Epoch 5/100\n",
      "36/36 - 0s - loss: 0.2831 - accuracy: 0.8972 - val_loss: 0.3149 - val_accuracy: 0.8725\n",
      "Epoch 6/100\n",
      "36/36 - 0s - loss: 0.2727 - accuracy: 0.8991 - val_loss: 0.3012 - val_accuracy: 0.8814\n",
      "Epoch 7/100\n",
      "36/36 - 0s - loss: 0.2657 - accuracy: 0.8997 - val_loss: 0.2887 - val_accuracy: 0.8881\n",
      "Epoch 8/100\n",
      "36/36 - 0s - loss: 0.2587 - accuracy: 0.9030 - val_loss: 0.2849 - val_accuracy: 0.8859\n",
      "Epoch 9/100\n",
      "36/36 - 0s - loss: 0.2558 - accuracy: 0.9053 - val_loss: 0.2820 - val_accuracy: 0.8904\n",
      "Epoch 10/100\n",
      "36/36 - 0s - loss: 0.2506 - accuracy: 0.9058 - val_loss: 0.2780 - val_accuracy: 0.8859\n",
      "Epoch 11/100\n",
      "36/36 - 0s - loss: 0.2480 - accuracy: 0.9072 - val_loss: 0.2717 - val_accuracy: 0.8926\n",
      "Epoch 12/100\n",
      "36/36 - 0s - loss: 0.2438 - accuracy: 0.9086 - val_loss: 0.2703 - val_accuracy: 0.8904\n",
      "Epoch 13/100\n",
      "36/36 - 0s - loss: 0.2412 - accuracy: 0.9111 - val_loss: 0.2677 - val_accuracy: 0.8904\n",
      "Epoch 14/100\n",
      "36/36 - 0s - loss: 0.2400 - accuracy: 0.9089 - val_loss: 0.2638 - val_accuracy: 0.8926\n",
      "Epoch 15/100\n",
      "36/36 - 0s - loss: 0.2370 - accuracy: 0.9117 - val_loss: 0.2654 - val_accuracy: 0.8904\n",
      "Epoch 16/100\n",
      "36/36 - 0s - loss: 0.2358 - accuracy: 0.9125 - val_loss: 0.2651 - val_accuracy: 0.8926\n"
     ]
    },
    {
     "data": {
      "text/plain": [
       "<tensorflow.python.keras.callbacks.History at 0x2202f4dd308>"
      ]
     },
     "execution_count": 20,
     "metadata": {},
     "output_type": "execute_result"
    }
   ],
   "source": [
    "input_size = 10\n",
    "output_size = 2\n",
    "hidden_layer_size = 50\n",
    "\n",
    "model = tf.keras.Sequential([\n",
    "        tf.keras.layers.Dense(hidden_layer_size, activation = 'relu'),\n",
    "        tf.keras.layers.Dense(hidden_layer_size, activation = 'relu'),\n",
    "        tf.keras.layers.Dense(output_size, activation = 'softmax')\n",
    "])\n",
    "\n",
    "model.compile(optimizer = 'adam', loss = 'sparse_categorical_crossentropy', metrics = ['accuracy'])\n",
    "\n",
    "BATCH_SIZE = 100\n",
    "EPOCHS = 100\n",
    "early_stopping = tf.keras.callbacks.EarlyStopping(patience = 2)\n",
    "\n",
    "model.fit(train_inputs, \n",
    "          train_targets, \n",
    "          batch_size = BATCH_SIZE, \n",
    "          epochs = EPOCHS, \n",
    "          callbacks = [early_stopping],\n",
    "          validation_data = (validation_inputs, validation_targets),\n",
    "          verbose = 2)"
   ]
  },
  {
   "cell_type": "code",
   "execution_count": 21,
   "metadata": {},
   "outputs": [
    {
     "name": "stdout",
     "output_type": "stream",
     "text": [
      "14/14 [==============================] - 0s 2ms/step - loss: 0.2482 - accuracy: 0.9040\n"
     ]
    }
   ],
   "source": [
    "test_loss, test_accuracy = model.evaluate(test_inputs, test_targets)"
   ]
  },
  {
   "cell_type": "code",
   "execution_count": 22,
   "metadata": {},
   "outputs": [
    {
     "name": "stdout",
     "output_type": "stream",
     "text": [
      "\n",
      " Test loss: 0.25. Test accuracy: 90.40%\n"
     ]
    }
   ],
   "source": [
    "print('\\n Test loss: {0:.2f}. Test accuracy: {1:.2f}%'.format(test_loss, test_accuracy*100))"
   ]
  },
  {
   "cell_type": "code",
   "execution_count": null,
   "metadata": {},
   "outputs": [],
   "source": []
  }
 ],
 "metadata": {
  "kernelspec": {
   "display_name": "Python 3",
   "language": "python",
   "name": "python3"
  },
  "language_info": {
   "codemirror_mode": {
    "name": "ipython",
    "version": 3
   },
   "file_extension": ".py",
   "mimetype": "text/x-python",
   "name": "python",
   "nbconvert_exporter": "python",
   "pygments_lexer": "ipython3",
   "version": "3.7.6"
  }
 },
 "nbformat": 4,
 "nbformat_minor": 4
}
