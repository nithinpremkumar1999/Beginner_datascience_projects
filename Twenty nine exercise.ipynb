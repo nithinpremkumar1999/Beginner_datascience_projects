{
 "cells": [
  {
   "cell_type": "code",
   "execution_count": 6,
   "metadata": {},
   "outputs": [
    {
     "name": "stdout",
     "output_type": "stream",
     "text": [
      "WARNING:tensorflow:From C:\\Users\\Owner\\anaconda3\\lib\\site-packages\\tensorflow\\python\\compat\\v2_compat.py:96: disable_resource_variables (from tensorflow.python.ops.variable_scope) is deprecated and will be removed in a future version.\n",
      "Instructions for updating:\n",
      "non-resource variables are not supported in the long term\n"
     ]
    }
   ],
   "source": [
    "import numpy as np\n",
    "import tensorflow.compat.v1 as tf\n",
    "tf.disable_v2_behavior()\n",
    "import matplotlib.pyplot as plt"
   ]
  },
  {
   "cell_type": "code",
   "execution_count": 19,
   "metadata": {},
   "outputs": [],
   "source": [
    "observations = 100000\n",
    "xs = np.random.uniform(low = -10, high = 10, size = (observations, 1))\n",
    "zs = np.random.uniform(low = -10, high = 10, size = (observations, 1))\n",
    "\n",
    "generated_inputs = np.column_stack((xs, zs))\n",
    "\n",
    "noise = np.random.uniform(-1, 1, (observations, 1))\n",
    "\n",
    "generated_targets = 2*xs - 3*zs + 5 + noise\n",
    "\n",
    "np.savez('TF_intro', inputs = generated_inputs, targets = generated_targets)"
   ]
  },
  {
   "cell_type": "code",
   "execution_count": 20,
   "metadata": {},
   "outputs": [],
   "source": [
    "input_size = 2\n",
    "output_size = 1"
   ]
  },
  {
   "cell_type": "code",
   "execution_count": 21,
   "metadata": {},
   "outputs": [],
   "source": [
    "inputs = tf.placeholder(tf.float32, [None, input_size])\n",
    "targets = tf.placeholder(tf.float32, [None, output_size])\n",
    "\n",
    "weights = tf.Variable(tf.random.uniform([input_size, output_size], minval = -0.1, maxval = 0.1,))\n",
    "biases = tf.Variable(tf.random.uniform([output_size], minval = -0.1, maxval = 0.1))\n",
    "\n",
    "outputs = tf.matmul(inputs, weights) + biases"
   ]
  },
  {
   "cell_type": "code",
   "execution_count": 28,
   "metadata": {},
   "outputs": [],
   "source": [
    "mean_loss = tf.losses.mean_squared_error(labels = targets, predictions = outputs) / 2.\n",
    "\n",
    "optimize  = tf.train.GradientDescentOptimizer(learning_rate=0.001).minimize(mean_loss)"
   ]
  },
  {
   "cell_type": "code",
   "execution_count": 23,
   "metadata": {},
   "outputs": [
    {
     "name": "stderr",
     "output_type": "stream",
     "text": [
      "C:\\Users\\Owner\\anaconda3\\lib\\site-packages\\tensorflow\\python\\client\\session.py:1751: UserWarning: An interactive session is already active. This can cause out-of-memory errors in some cases. You must explicitly call `InteractiveSession.close()` to release resources held by the other session(s).\n",
      "  warnings.warn('An interactive session is already active. This can '\n"
     ]
    }
   ],
   "source": [
    "sess = tf.InteractiveSession()"
   ]
  },
  {
   "cell_type": "code",
   "execution_count": 29,
   "metadata": {},
   "outputs": [],
   "source": [
    "initializer = tf.global_variables_initializer()\n",
    "sess.run(initializer)"
   ]
  },
  {
   "cell_type": "code",
   "execution_count": 30,
   "metadata": {},
   "outputs": [],
   "source": [
    "training_data = np.load('TF_intro.npz')"
   ]
  },
  {
   "cell_type": "code",
   "execution_count": 31,
   "metadata": {},
   "outputs": [
    {
     "name": "stdout",
     "output_type": "stream",
     "text": [
      "232.1331\n",
      "217.64192\n",
      "204.10248\n",
      "191.45204\n",
      "179.63223\n",
      "168.5884\n",
      "158.2695\n",
      "148.62784\n",
      "139.61887\n",
      "131.20099\n",
      "123.3353\n",
      "115.98549\n",
      "109.11767\n",
      "102.70008\n",
      "96.70313\n",
      "91.09918\n",
      "85.86234\n",
      "80.96848\n",
      "76.39507\n",
      "72.121\n",
      "68.12658\n",
      "64.39343\n",
      "60.90438\n",
      "57.64335\n",
      "54.595364\n",
      "51.7464\n",
      "49.08338\n",
      "46.59408\n",
      "44.26705\n",
      "42.091644\n",
      "40.057884\n",
      "38.156456\n",
      "36.37865\n",
      "34.71635\n",
      "33.16195\n",
      "31.708364\n",
      "30.34896\n",
      "29.077545\n",
      "27.88833\n",
      "26.77591\n",
      "25.735254\n",
      "24.761623\n",
      "23.850628\n",
      "22.998144\n",
      "22.200325\n",
      "21.453573\n",
      "20.754538\n",
      "20.100082\n",
      "19.487274\n",
      "18.913387\n",
      "18.37585\n",
      "17.87228\n",
      "17.40045\n",
      "16.95827\n",
      "16.54379\n",
      "16.1552\n",
      "15.790796\n",
      "15.448985\n",
      "15.128287\n",
      "14.827313\n",
      "14.544772\n",
      "14.279453\n",
      "14.030228\n",
      "13.796038\n",
      "13.575895\n",
      "13.368882\n",
      "13.17414\n",
      "12.99086\n",
      "12.81829\n",
      "12.655727\n",
      "12.502525\n",
      "12.35806\n",
      "12.221765\n",
      "12.093105\n",
      "11.971583\n",
      "11.856727\n",
      "11.748104\n",
      "11.645304\n",
      "11.54795\n",
      "11.455685\n",
      "11.368177\n",
      "11.285115\n",
      "11.20621\n",
      "11.13119\n",
      "11.059806\n",
      "10.991817\n",
      "10.927003\n",
      "10.865159\n",
      "10.806092\n",
      "10.74962\n",
      "10.695579\n",
      "10.643806\n",
      "10.594157\n",
      "10.546501\n",
      "10.5007\n",
      "10.456638\n",
      "10.414204\n",
      "10.373294\n",
      "10.333808\n",
      "10.295655\n"
     ]
    }
   ],
   "source": [
    "for e in range(100):\n",
    "    \n",
    "    _, curr_loss = sess.run([optimize, mean_loss], \n",
    "                            feed_dict = {inputs: training_data['inputs'], targets: training_data['targets']}\n",
    "                           )\n",
    "    print(curr_loss)"
   ]
  },
  {
   "cell_type": "code",
   "execution_count": 32,
   "metadata": {},
   "outputs": [
    {
     "data": {
      "image/png": "[encoded data removed]",
      "text/plain": [
       "<Figure size 432x288 with 1 Axes>"
      ]
     },
     "metadata": {
      "needs_background": "light"
     },
     "output_type": "display_data"
    }
   ],
   "source": [
    "out = sess.run([outputs], feed_dict = {inputs: training_data['inputs']})\n",
    "plt.plot(np.squeeze(out), np.squeeze(training_data['targets']))\n",
    "plt.xlabel('Outputs')\n",
    "plt.ylabel('Targets')\n",
    "plt.show()"
   ]
  },
  {
   "cell_type": "code",
   "execution_count": null,
   "metadata": {},
   "outputs": [],
   "source": []
  }
 ],
 "metadata": {
  "kernelspec": {
   "display_name": "Python 3",
   "language": "python",
   "name": "python3"
  },
  "language_info": {
   "codemirror_mode": {
    "name": "ipython",
    "version": 3
   },
   "file_extension": ".py",
   "mimetype": "text/x-python",
   "name": "python",
   "nbconvert_exporter": "python",
   "pygments_lexer": "ipython3",
   "version": "3.7.6"
  }
 },
 "nbformat": 4,
 "nbformat_minor": 4
}
